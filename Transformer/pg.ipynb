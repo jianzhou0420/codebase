{
 "cells": [
  {
   "cell_type": "code",
   "execution_count": 3,
   "metadata": {},
   "outputs": [
    {
     "data": {
      "text/plain": [
       "Parameter containing:\n",
       "tensor([[-1.8832, -1.1307,  1.0453],\n",
       "        [ 1.5425,  1.4560,  1.5051],\n",
       "        [-0.1741,  1.2180, -1.9419],\n",
       "        [-1.4168, -0.5363, -0.6779],\n",
       "        [-0.7468, -0.5498, -0.4171],\n",
       "        [ 0.0431,  1.6297, -0.1246],\n",
       "        [-0.2763,  1.7529,  1.1787],\n",
       "        [ 0.2035, -0.0685,  0.9546],\n",
       "        [ 0.4443,  1.9593,  0.1117],\n",
       "        [-1.1186,  1.2766,  1.9042]], requires_grad=True)"
      ]
     },
     "execution_count": 3,
     "metadata": {},
     "output_type": "execute_result"
    }
   ],
   "source": [
    "import torch\n",
    "import torch.nn as nn\n",
    "\n",
    "\n",
    "embedding1=nn.Embedding(10,3)\n",
    "embedding1.weight"
   ]
  },
  {
   "cell_type": "code",
   "execution_count": 9,
   "metadata": {},
   "outputs": [
    {
     "data": {
      "text/plain": [
       "tensor([[-0.1741,  1.2180, -1.9419],\n",
       "        [ 1.5425,  1.4560,  1.5051],\n",
       "        [ 1.5425,  1.4560,  1.5051],\n",
       "        [ 1.5425,  1.4560,  1.5051],\n",
       "        [-1.1186,  1.2766,  1.9042],\n",
       "        [ 1.5425,  1.4560,  1.5051],\n",
       "        [ 1.5425,  1.4560,  1.5051],\n",
       "        [ 1.5425,  1.4560,  1.5051],\n",
       "        [ 1.5425,  1.4560,  1.5051],\n",
       "        [ 1.5425,  1.4560,  1.5051]], grad_fn=<EmbeddingBackward0>)"
      ]
     },
     "execution_count": 9,
     "metadata": {},
     "output_type": "execute_result"
    }
   ],
   "source": [
    "a=torch.tensor([2,1,1,1,9,1,1,1,1,1])\n",
    "b=embedding1(a)\n",
    "b"
   ]
  }
 ],
 "metadata": {
  "kernelspec": {
   "display_name": "default",
   "language": "python",
   "name": "python3"
  },
  "language_info": {
   "codemirror_mode": {
    "name": "ipython",
    "version": 3
   },
   "file_extension": ".py",
   "mimetype": "text/x-python",
   "name": "python",
   "nbconvert_exporter": "python",
   "pygments_lexer": "ipython3",
   "version": "3.8.18"
  }
 },
 "nbformat": 4,
 "nbformat_minor": 2
}
